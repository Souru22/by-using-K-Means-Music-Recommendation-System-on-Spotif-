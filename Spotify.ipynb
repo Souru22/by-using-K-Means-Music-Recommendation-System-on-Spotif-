{
 "cells": [
  {
   "cell_type": "code",
   "execution_count": 34,
   "id": "03a58f81",
   "metadata": {},
   "outputs": [],
   "source": [
    "import pandas as pd  \n",
    "import numpy as np\n",
    "from sklearn.decomposition import NMF #non negative matric factorization"
   ]
  },
  {
   "cell_type": "code",
   "execution_count": 35,
   "id": "8ccb4f20",
   "metadata": {},
   "outputs": [],
   "source": [
    "df=pd.read_csv(r\"C:\\Users\\Sourabh\\Desktop\\Kulkarni\\spotify.xls\",index_col=[0])"
   ]
  },
  {
   "cell_type": "code",
   "execution_count": 36,
   "id": "cb50b84e",
   "metadata": {},
   "outputs": [
    {
     "data": {
      "text/html": [
       "<div>\n",
       "<style scoped>\n",
       "    .dataframe tbody tr th:only-of-type {\n",
       "        vertical-align: middle;\n",
       "    }\n",
       "\n",
       "    .dataframe tbody tr th {\n",
       "        vertical-align: top;\n",
       "    }\n",
       "\n",
       "    .dataframe thead th {\n",
       "        text-align: right;\n",
       "    }\n",
       "</style>\n",
       "<table border=\"1\" class=\"dataframe\">\n",
       "  <thead>\n",
       "    <tr style=\"text-align: right;\">\n",
       "      <th></th>\n",
       "      <th>song_1</th>\n",
       "      <th>song_2</th>\n",
       "      <th>song_3</th>\n",
       "      <th>song_4</th>\n",
       "      <th>song_5</th>\n",
       "      <th>song_6</th>\n",
       "      <th>song_7</th>\n",
       "      <th>song_8</th>\n",
       "      <th>song_9</th>\n",
       "      <th>song_10</th>\n",
       "      <th>...</th>\n",
       "      <th>song_4991</th>\n",
       "      <th>song_4992</th>\n",
       "      <th>song_4993</th>\n",
       "      <th>song_4994</th>\n",
       "      <th>song_4995</th>\n",
       "      <th>song_4996</th>\n",
       "      <th>song_4997</th>\n",
       "      <th>song_4998</th>\n",
       "      <th>song_4999</th>\n",
       "      <th>song_5000</th>\n",
       "    </tr>\n",
       "  </thead>\n",
       "  <tbody>\n",
       "    <tr>\n",
       "      <th>user_1</th>\n",
       "      <td>2</td>\n",
       "      <td>2</td>\n",
       "      <td>8</td>\n",
       "      <td>8</td>\n",
       "      <td>13</td>\n",
       "      <td>1</td>\n",
       "      <td>4</td>\n",
       "      <td>9</td>\n",
       "      <td>1</td>\n",
       "      <td>2</td>\n",
       "      <td>...</td>\n",
       "      <td>14</td>\n",
       "      <td>2</td>\n",
       "      <td>14</td>\n",
       "      <td>1</td>\n",
       "      <td>9</td>\n",
       "      <td>0</td>\n",
       "      <td>11</td>\n",
       "      <td>6</td>\n",
       "      <td>14</td>\n",
       "      <td>7</td>\n",
       "    </tr>\n",
       "    <tr>\n",
       "      <th>user_2</th>\n",
       "      <td>13</td>\n",
       "      <td>5</td>\n",
       "      <td>5</td>\n",
       "      <td>5</td>\n",
       "      <td>12</td>\n",
       "      <td>8</td>\n",
       "      <td>10</td>\n",
       "      <td>10</td>\n",
       "      <td>2</td>\n",
       "      <td>2</td>\n",
       "      <td>...</td>\n",
       "      <td>10</td>\n",
       "      <td>6</td>\n",
       "      <td>11</td>\n",
       "      <td>1</td>\n",
       "      <td>1</td>\n",
       "      <td>5</td>\n",
       "      <td>12</td>\n",
       "      <td>8</td>\n",
       "      <td>3</td>\n",
       "      <td>0</td>\n",
       "    </tr>\n",
       "    <tr>\n",
       "      <th>user_3</th>\n",
       "      <td>3</td>\n",
       "      <td>9</td>\n",
       "      <td>2</td>\n",
       "      <td>8</td>\n",
       "      <td>0</td>\n",
       "      <td>1</td>\n",
       "      <td>11</td>\n",
       "      <td>7</td>\n",
       "      <td>3</td>\n",
       "      <td>7</td>\n",
       "      <td>...</td>\n",
       "      <td>9</td>\n",
       "      <td>5</td>\n",
       "      <td>7</td>\n",
       "      <td>15</td>\n",
       "      <td>12</td>\n",
       "      <td>13</td>\n",
       "      <td>14</td>\n",
       "      <td>5</td>\n",
       "      <td>0</td>\n",
       "      <td>14</td>\n",
       "    </tr>\n",
       "    <tr>\n",
       "      <th>user_4</th>\n",
       "      <td>2</td>\n",
       "      <td>6</td>\n",
       "      <td>7</td>\n",
       "      <td>8</td>\n",
       "      <td>14</td>\n",
       "      <td>0</td>\n",
       "      <td>12</td>\n",
       "      <td>7</td>\n",
       "      <td>8</td>\n",
       "      <td>1</td>\n",
       "      <td>...</td>\n",
       "      <td>9</td>\n",
       "      <td>15</td>\n",
       "      <td>9</td>\n",
       "      <td>14</td>\n",
       "      <td>10</td>\n",
       "      <td>6</td>\n",
       "      <td>11</td>\n",
       "      <td>13</td>\n",
       "      <td>6</td>\n",
       "      <td>0</td>\n",
       "    </tr>\n",
       "    <tr>\n",
       "      <th>user_5</th>\n",
       "      <td>11</td>\n",
       "      <td>12</td>\n",
       "      <td>8</td>\n",
       "      <td>6</td>\n",
       "      <td>13</td>\n",
       "      <td>7</td>\n",
       "      <td>0</td>\n",
       "      <td>7</td>\n",
       "      <td>3</td>\n",
       "      <td>13</td>\n",
       "      <td>...</td>\n",
       "      <td>12</td>\n",
       "      <td>14</td>\n",
       "      <td>11</td>\n",
       "      <td>11</td>\n",
       "      <td>11</td>\n",
       "      <td>7</td>\n",
       "      <td>3</td>\n",
       "      <td>6</td>\n",
       "      <td>11</td>\n",
       "      <td>7</td>\n",
       "    </tr>\n",
       "  </tbody>\n",
       "</table>\n",
       "<p>5 rows × 5000 columns</p>\n",
       "</div>"
      ],
      "text/plain": [
       "        song_1  song_2  song_3  song_4  song_5  song_6  song_7  song_8  \\\n",
       "user_1       2       2       8       8      13       1       4       9   \n",
       "user_2      13       5       5       5      12       8      10      10   \n",
       "user_3       3       9       2       8       0       1      11       7   \n",
       "user_4       2       6       7       8      14       0      12       7   \n",
       "user_5      11      12       8       6      13       7       0       7   \n",
       "\n",
       "        song_9  song_10  ...  song_4991  song_4992  song_4993  song_4994  \\\n",
       "user_1       1        2  ...         14          2         14          1   \n",
       "user_2       2        2  ...         10          6         11          1   \n",
       "user_3       3        7  ...          9          5          7         15   \n",
       "user_4       8        1  ...          9         15          9         14   \n",
       "user_5       3       13  ...         12         14         11         11   \n",
       "\n",
       "        song_4995  song_4996  song_4997  song_4998  song_4999  song_5000  \n",
       "user_1          9          0         11          6         14          7  \n",
       "user_2          1          5         12          8          3          0  \n",
       "user_3         12         13         14          5          0         14  \n",
       "user_4         10          6         11         13          6          0  \n",
       "user_5         11          7          3          6         11          7  \n",
       "\n",
       "[5 rows x 5000 columns]"
      ]
     },
     "execution_count": 36,
     "metadata": {},
     "output_type": "execute_result"
    }
   ],
   "source": [
    "df.head()"
   ]
  },
  {
   "cell_type": "code",
   "execution_count": 37,
   "id": "6c3a8efd",
   "metadata": {},
   "outputs": [
    {
     "data": {
      "text/plain": [
       "(1000, 5000)"
      ]
     },
     "execution_count": 37,
     "metadata": {},
     "output_type": "execute_result"
    }
   ],
   "source": [
    "df.shape"
   ]
  },
  {
   "cell_type": "code",
   "execution_count": 5,
   "id": "d7b27da8",
   "metadata": {},
   "outputs": [],
   "source": [
    "#we will be building the recomdentation system using 2 diffrent methods\n",
    "#1 Using Euclidean distance(can be done on less than 1 lakh users)\n",
    "#2 Using clustering algorithm(for bigger data set)\n",
    "\n",
    "# For both the above methods we will be using non negative matrix factorization\n"
   ]
  },
  {
   "cell_type": "code",
   "execution_count": 39,
   "id": "c4d1c251",
   "metadata": {},
   "outputs": [],
   "source": [
    "nmf = NMF(n_components=100,max_iter=1000,random_state=100)\n"
   ]
  },
  {
   "cell_type": "code",
   "execution_count": 40,
   "id": "f8231f78",
   "metadata": {},
   "outputs": [],
   "source": [
    "x = df.values"
   ]
  },
  {
   "cell_type": "code",
   "execution_count": 41,
   "id": "617c06e8",
   "metadata": {},
   "outputs": [
    {
     "data": {
      "text/plain": [
       "array([[ 2,  2,  8, ...,  6, 14,  7],\n",
       "       [13,  5,  5, ...,  8,  3,  0],\n",
       "       [ 3,  9,  2, ...,  5,  0, 14],\n",
       "       ...,\n",
       "       [ 6,  2,  1, ..., 13,  6, 13],\n",
       "       [ 7,  0,  8, ..., 11,  9, 12],\n",
       "       [ 6, 15,  0, ..., 15,  4,  5]], dtype=int64)"
      ]
     },
     "execution_count": 41,
     "metadata": {},
     "output_type": "execute_result"
    }
   ],
   "source": [
    "x"
   ]
  },
  {
   "cell_type": "code",
   "execution_count": 42,
   "id": "7ade0455",
   "metadata": {},
   "outputs": [
    {
     "name": "stderr",
     "output_type": "stream",
     "text": [
      "C:\\ProgramData\\Anaconda3\\lib\\site-packages\\sklearn\\decomposition\\_nmf.py:289: FutureWarning: The 'init' value, when 'init=None' and n_components is less than n_samples and n_features, will be changed from 'nndsvd' to 'nndsvda' in 1.1 (renaming of 0.26).\n",
      "  warnings.warn(\n",
      "C:\\ProgramData\\Anaconda3\\lib\\site-packages\\sklearn\\decomposition\\_nmf.py:1637: ConvergenceWarning: Maximum number of iterations 1000 reached. Increase it to improve convergence.\n",
      "  warnings.warn(\n"
     ]
    },
    {
     "data": {
      "text/plain": [
       "NMF(max_iter=1000, n_components=100, random_state=100)"
      ]
     },
     "execution_count": 42,
     "metadata": {},
     "output_type": "execute_result"
    }
   ],
   "source": [
    "nmf.fit(x)"
   ]
  },
  {
   "cell_type": "code",
   "execution_count": 43,
   "id": "ecb84e01",
   "metadata": {},
   "outputs": [],
   "source": [
    "user_matrix = nmf.transform(x)"
   ]
  },
  {
   "cell_type": "code",
   "execution_count": 44,
   "id": "5d862b9b",
   "metadata": {},
   "outputs": [
    {
     "data": {
      "text/plain": [
       "array([[0.        , 0.        , 0.        , ..., 0.        , 0.        ,\n",
       "        0.        ],\n",
       "       [0.        , 0.        , 0.84533542, ..., 0.        , 0.        ,\n",
       "        0.        ],\n",
       "       [0.        , 0.        , 2.63945089, ..., 0.        , 0.        ,\n",
       "        0.        ],\n",
       "       ...,\n",
       "       [0.        , 1.33751685, 0.        , ..., 3.14601071, 0.        ,\n",
       "        0.        ],\n",
       "       [0.        , 1.12147873, 0.        , ..., 0.        , 0.40783907,\n",
       "        1.47084396],\n",
       "       [0.72454542, 1.81791399, 0.13795083, ..., 0.52178048, 0.        ,\n",
       "        0.        ]])"
      ]
     },
     "execution_count": 44,
     "metadata": {},
     "output_type": "execute_result"
    }
   ],
   "source": [
    "user_matrix"
   ]
  },
  {
   "cell_type": "code",
   "execution_count": 45,
   "id": "4a529b07",
   "metadata": {},
   "outputs": [
    {
     "data": {
      "text/plain": [
       "(1000, 100)"
      ]
     },
     "execution_count": 45,
     "metadata": {},
     "output_type": "execute_result"
    }
   ],
   "source": [
    "user_matrix.shape"
   ]
  },
  {
   "cell_type": "code",
   "execution_count": 46,
   "id": "a298c63d",
   "metadata": {},
   "outputs": [],
   "source": [
    "song_matrix = nmf.components_.T"
   ]
  },
  {
   "cell_type": "code",
   "execution_count": 47,
   "id": "9d30b07f",
   "metadata": {},
   "outputs": [
    {
     "data": {
      "text/plain": [
       "(5000, 100)"
      ]
     },
     "execution_count": 47,
     "metadata": {},
     "output_type": "execute_result"
    }
   ],
   "source": [
    "song_matrix.shape"
   ]
  },
  {
   "cell_type": "code",
   "execution_count": 48,
   "id": "9d7ab0ec",
   "metadata": {},
   "outputs": [
    {
     "data": {
      "text/plain": [
       "array([[0.13281758, 0.1474877 , 0.        , ..., 0.22845059, 0.19561522,\n",
       "        0.23372763],\n",
       "       [0.22575796, 0.        , 0.48204324, ..., 0.16088125, 0.06590065,\n",
       "        0.08401945],\n",
       "       [0.2610321 , 0.        , 0.02409176, ..., 0.65954439, 0.23477369,\n",
       "        0.16624549],\n",
       "       ...,\n",
       "       [0.26699177, 0.23706928, 0.14580404, ..., 0.10532991, 0.4363255 ,\n",
       "        0.31363757],\n",
       "       [0.        , 0.24150991, 0.17487193, ..., 0.34798278, 0.06774254,\n",
       "        0.        ],\n",
       "       [0.13206822, 0.        , 0.01791898, ..., 0.27922375, 0.16782685,\n",
       "        0.30997385]])"
      ]
     },
     "execution_count": 48,
     "metadata": {},
     "output_type": "execute_result"
    }
   ],
   "source": [
    "song_matrix"
   ]
  },
  {
   "cell_type": "markdown",
   "id": "821384f4",
   "metadata": {},
   "source": [
    "# Recommendation Engine building method 1 (User approach)"
   ]
  },
  {
   "cell_type": "markdown",
   "id": "ea0367fe",
   "metadata": {},
   "source": [
    "# Steps of building recommendation system \n",
    "1. Considering recammending songs to user no 1 who is located at row location 0.\n",
    "1. Find the Euclidean distance between user1 and the remaning 1000 users\n",
    "3. Find out the top 10 songs heard by 5 closest users to user no 1.\n",
    "4. Recommend those 10 songs heard by closest users to user no 1."
   ]
  },
  {
   "cell_type": "code",
   "execution_count": 16,
   "id": "5066d803",
   "metadata": {},
   "outputs": [],
   "source": [
    "##Finding the Euclidean distance between user no 1 and remaining users"
   ]
  },
  {
   "cell_type": "code",
   "execution_count": 49,
   "id": "da7cf93a",
   "metadata": {},
   "outputs": [],
   "source": [
    "def cal_dist(u1,u2):\n",
    "    return pow(sum([pow(u1[x]-u2[x],2)for x in range(len(u1))]),0.5)"
   ]
  },
  {
   "cell_type": "code",
   "execution_count": 50,
   "id": "28707ac7",
   "metadata": {},
   "outputs": [
    {
     "data": {
      "text/plain": [
       "12.962015431852794"
      ]
     },
     "execution_count": 50,
     "metadata": {},
     "output_type": "execute_result"
    }
   ],
   "source": [
    "cal_dist(user_matrix[0],user_matrix[1])"
   ]
  },
  {
   "cell_type": "markdown",
   "id": "9482d817",
   "metadata": {},
   "source": [
    "## Finding out the distance between all the users form user1"
   ]
  },
  {
   "cell_type": "code",
   "execution_count": 51,
   "id": "ea3c638e",
   "metadata": {},
   "outputs": [],
   "source": [
    "def dist_from_base_user(base_user,user_matrix):\n",
    "    dist = []\n",
    "    for i in range(len(user_matrix)):\n",
    "        if base_user != i :\n",
    "            dist.append(cal_dist(user_matrix[base_user],user_matrix[i]))\n",
    "    return dist"
   ]
  },
  {
   "cell_type": "code",
   "execution_count": 52,
   "id": "d95f9069",
   "metadata": {},
   "outputs": [],
   "source": [
    "dist_from_user1 = dist_from_base_user(5,user_matrix)"
   ]
  },
  {
   "cell_type": "markdown",
   "id": "f544d03e",
   "metadata": {},
   "source": [
    "# Finding out the 5 closest users"
   ]
  },
  {
   "cell_type": "code",
   "execution_count": 53,
   "id": "379cc5f8",
   "metadata": {},
   "outputs": [],
   "source": [
    "user_index = np.argsort(dist_from_user1)[0:5]"
   ]
  },
  {
   "cell_type": "code",
   "execution_count": 54,
   "id": "d58c44ce",
   "metadata": {},
   "outputs": [
    {
     "data": {
      "text/plain": [
       "array([535, 896, 939, 209, 568], dtype=int64)"
      ]
     },
     "execution_count": 54,
     "metadata": {},
     "output_type": "execute_result"
    }
   ],
   "source": [
    "user_index"
   ]
  },
  {
   "cell_type": "markdown",
   "id": "0165eaf0",
   "metadata": {},
   "source": [
    "# Finding out the top 10 songs"
   ]
  },
  {
   "cell_type": "code",
   "execution_count": 55,
   "id": "2f935396",
   "metadata": {},
   "outputs": [
    {
     "name": "stdout",
     "output_type": "stream",
     "text": [
      "song heard by user 536\n",
      "**************************************************\n",
      "           user_536\n",
      "song_1           14\n",
      "song_2            5\n",
      "song_3            0\n",
      "song_4            5\n",
      "song_5            9\n",
      "...             ...\n",
      "song_4996         9\n",
      "song_4997         6\n",
      "song_4998         0\n",
      "song_4999        12\n",
      "song_5000        11\n",
      "\n",
      "[5000 rows x 1 columns]\n",
      "song heard by user 897\n",
      "**************************************************\n",
      "           user_897\n",
      "song_1            5\n",
      "song_2           10\n",
      "song_3           11\n",
      "song_4            0\n",
      "song_5           13\n",
      "...             ...\n",
      "song_4996        11\n",
      "song_4997        13\n",
      "song_4998        13\n",
      "song_4999        10\n",
      "song_5000         7\n",
      "\n",
      "[5000 rows x 1 columns]\n",
      "song heard by user 940\n",
      "**************************************************\n",
      "           user_940\n",
      "song_1           13\n",
      "song_2            4\n",
      "song_3           12\n",
      "song_4           10\n",
      "song_5           10\n",
      "...             ...\n",
      "song_4996         7\n",
      "song_4997         0\n",
      "song_4998        13\n",
      "song_4999         8\n",
      "song_5000         9\n",
      "\n",
      "[5000 rows x 1 columns]\n",
      "song heard by user 210\n",
      "**************************************************\n",
      "           user_210\n",
      "song_1            2\n",
      "song_2           12\n",
      "song_3           10\n",
      "song_4           10\n",
      "song_5            4\n",
      "...             ...\n",
      "song_4996        11\n",
      "song_4997         5\n",
      "song_4998         2\n",
      "song_4999         9\n",
      "song_5000        15\n",
      "\n",
      "[5000 rows x 1 columns]\n",
      "song heard by user 569\n",
      "**************************************************\n",
      "           user_569\n",
      "song_1            3\n",
      "song_2            5\n",
      "song_3            7\n",
      "song_4           14\n",
      "song_5           10\n",
      "...             ...\n",
      "song_4996         5\n",
      "song_4997        10\n",
      "song_4998         9\n",
      "song_4999         9\n",
      "song_5000        12\n",
      "\n",
      "[5000 rows x 1 columns]\n"
     ]
    }
   ],
   "source": [
    "for i in user_index:\n",
    "    print('song heard by user',i+1)\n",
    "    print(\"**************************************************\")\n",
    "    temp = pd.DataFrame(df.iloc[i])\n",
    "    print (temp)"
   ]
  },
  {
   "cell_type": "markdown",
   "id": "466d67f9",
   "metadata": {},
   "source": [
    "## Picking up the songs heard by the closest users"
   ]
  },
  {
   "cell_type": "code",
   "execution_count": 56,
   "id": "386849da",
   "metadata": {},
   "outputs": [],
   "source": [
    "def recommending_songs(user_index,df):\n",
    "    temp = df.iloc[user_index]\n",
    "    dict_temp = temp.max().to_dict()\n",
    "    sorted_dict = sorted(dict_temp.items(), key = lambda keyvalue:(keyvalue[1],keyvalue[0]),reverse=True)[0:5]\n",
    "    return [x[0] for x in sorted_dict]"
   ]
  },
  {
   "cell_type": "code",
   "execution_count": 57,
   "id": "6cde6641",
   "metadata": {},
   "outputs": [
    {
     "data": {
      "text/plain": [
       "['song_999', 'song_995', 'song_993', 'song_989', 'song_988']"
      ]
     },
     "execution_count": 57,
     "metadata": {},
     "output_type": "execute_result"
    }
   ],
   "source": [
    "recommending_songs(user_index,df)"
   ]
  },
  {
   "cell_type": "markdown",
   "id": "5b5f232a",
   "metadata": {},
   "source": [
    "## Recommendation Engine Building Method 2 (The song approach)\n",
    "Steps for building recomendation system\n",
    "1. We will be clusturing all the songs\n",
    "2. We will be picking up a song heard by prticular user\n",
    "3. We will be finding the cluster in which that particular song is present.\n",
    "4. We will recommend other songs from that cluster to the user."
   ]
  },
  {
   "cell_type": "markdown",
   "id": "0e3261a1",
   "metadata": {},
   "source": [
    "using K-means clusturing algorithm to build clusters."
   ]
  },
  {
   "cell_type": "code",
   "execution_count": 58,
   "id": "967805d2",
   "metadata": {},
   "outputs": [],
   "source": [
    "from sklearn.cluster import KMeans"
   ]
  },
  {
   "cell_type": "code",
   "execution_count": 59,
   "id": "ffc21657",
   "metadata": {},
   "outputs": [],
   "source": [
    "wcss = {}\n",
    "for k in range(1,50):\n",
    "    kmeans = KMeans(n_clusters=k).fit(song_matrix)\n",
    "    wcss[k] = kmeans.inertia_\n",
    "    "
   ]
  },
  {
   "cell_type": "code",
   "execution_count": 60,
   "id": "7df3a16d",
   "metadata": {},
   "outputs": [
    {
     "data": {
      "text/plain": [
       "{1: 14169.227673064306,\n",
       " 2: 13990.184988961075,\n",
       " 3: 13856.12305841963,\n",
       " 4: 13746.39282531228,\n",
       " 5: 13658.50171264444,\n",
       " 6: 13593.36572454008,\n",
       " 7: 13530.921393473382,\n",
       " 8: 13481.49687891534,\n",
       " 9: 13435.374748901282,\n",
       " 10: 13390.307920941515,\n",
       " 11: 13356.259265923954,\n",
       " 12: 13320.973416383102,\n",
       " 13: 13281.625204418695,\n",
       " 14: 13262.117406593326,\n",
       " 15: 13229.857329586159,\n",
       " 16: 13208.45156559548,\n",
       " 17: 13192.079817224905,\n",
       " 18: 13171.195465057628,\n",
       " 19: 13150.617144838474,\n",
       " 20: 13126.031585924107,\n",
       " 21: 13115.227396152297,\n",
       " 22: 13081.57642905416,\n",
       " 23: 13073.55210194189,\n",
       " 24: 13052.13842878817,\n",
       " 25: 13043.454072076707,\n",
       " 26: 13021.410409100354,\n",
       " 27: 13007.61531843045,\n",
       " 28: 12996.331538789007,\n",
       " 29: 12983.826067560076,\n",
       " 30: 12956.011602357683,\n",
       " 31: 12947.229508522814,\n",
       " 32: 12940.635536326727,\n",
       " 33: 12925.007630584001,\n",
       " 34: 12903.234238302113,\n",
       " 35: 12898.179272698984,\n",
       " 36: 12885.62952880978,\n",
       " 37: 12868.785479723985,\n",
       " 38: 12865.354478043046,\n",
       " 39: 12850.812913998021,\n",
       " 40: 12832.12320451296,\n",
       " 41: 12822.079984977432,\n",
       " 42: 12821.451157038131,\n",
       " 43: 12809.931774598343,\n",
       " 44: 12782.891423928162,\n",
       " 45: 12769.702719320216,\n",
       " 46: 12776.339849741898,\n",
       " 47: 12760.914711850191,\n",
       " 48: 12749.75023073227,\n",
       " 49: 12747.39066990394}"
      ]
     },
     "execution_count": 60,
     "metadata": {},
     "output_type": "execute_result"
    }
   ],
   "source": [
    "wcss"
   ]
  },
  {
   "cell_type": "code",
   "execution_count": 61,
   "id": "5e931fa0",
   "metadata": {},
   "outputs": [],
   "source": [
    "import matplotlib.pyplot as plt\n",
    "%matplotlib inline"
   ]
  },
  {
   "cell_type": "code",
   "execution_count": 62,
   "id": "64367553",
   "metadata": {},
   "outputs": [
    {
     "data": {
      "text/plain": [
       "Text(0, 0.5, 'wcss')"
      ]
     },
     "execution_count": 62,
     "metadata": {},
     "output_type": "execute_result"
    },
    {
     "data": {
      "image/png": "[encoded data removed]",
      "text/plain": [
       "<Figure size 640x480 with 1 Axes>"
      ]
     },
     "metadata": {},
     "output_type": "display_data"
    }
   ],
   "source": [
    "plt.plot(wcss.keys(),wcss.values())\n",
    "plt.xlabel('K values')\n",
    "plt.ylabel('wcss')"
   ]
  },
  {
   "cell_type": "code",
   "execution_count": 31,
   "id": "ec24a01c",
   "metadata": {},
   "outputs": [],
   "source": [
    "#we will be taking k value as 12"
   ]
  },
  {
   "cell_type": "code",
   "execution_count": 63,
   "id": "83eb8039",
   "metadata": {},
   "outputs": [],
   "source": [
    "def recommend_songs(df,ncluster,song_matrix,song_name,n_recommend):\n",
    "    \n",
    "    # making clusters of song matrix\n",
    "    kmeans = KMeans(n_clusters=ncluster).fit(song_matrix)\n",
    "    \n",
    "    # Finding the index of song in the dataframe\n",
    "    index_in_song = df.columns.to_list().index(song_name)\n",
    "    \n",
    "    # Findig the vectorof the song from song matrix \n",
    "    song_vector = song_matrix[index_in_song]\n",
    "    \n",
    "    # Buiding 12 clusters using the Kmeans algorithm\n",
    "    all_songs_in_clusters = list(kmeans.predict(song_matrix))\n",
    "    \n",
    "    # In the previous step the kmeans create 12 clusters of all the songs we have , now we are going to pick up in which cluster our desired song is placed in\n",
    "    # and find other songs in that cluster.\n",
    "    songs_in_select_cluster = [x for x in range(len(all_songs_in_clusters)) if \n",
    "                               all_songs_in_clusters[x]==kmeans.predict([song_vector])]\n",
    "    \n",
    "    \n",
    "    #Finding the song names using the above recommeded indexes\n",
    "    song_cluster = song_matrix[songs_in_select_cluster]\n",
    "   \n",
    "\n",
    "    # Finding out the nearest song using the nearest neighbour algorithm\n",
    "    from sklearn.neighbors import NearestNeighbors\n",
    "    \n",
    "    nn = NearestNeighbors(n_neighbors=n_recommend)\n",
    "    nn.fit(song_cluster)\n",
    "    \n",
    "    \n",
    "    # Nearest neihbour songs\n",
    "    recommeded_songs = nn.kneighbors([song_matrix[index_in_song]])\n",
    "    \n",
    "    \n",
    "    # Printing the names of the songs\n",
    "    col_list = list(df.columns)\n",
    "    \n",
    "    \n",
    "    return [col_list[x] for x in recommeded_songs[1][0]]"
   ]
  },
  {
   "cell_type": "code",
   "execution_count": 64,
   "id": "4e823297",
   "metadata": {},
   "outputs": [
    {
     "data": {
      "text/plain": [
       "['song_2', 'song_344', 'song_374', 'song_110', 'song_42']"
      ]
     },
     "execution_count": 64,
     "metadata": {},
     "output_type": "execute_result"
    }
   ],
   "source": [
    "recommend_songs(df,12,song_matrix,'song_10',5)"
   ]
  },
  {
   "cell_type": "code",
   "execution_count": 65,
   "id": "670b0cb8",
   "metadata": {},
   "outputs": [
    {
     "data": {
      "text/plain": [
       "['song_4', 'song_30', 'song_219', 'song_195', 'song_333']"
      ]
     },
     "execution_count": 65,
     "metadata": {},
     "output_type": "execute_result"
    }
   ],
   "source": [
    "recommend_songs(df,12,song_matrix,'song_15',5)"
   ]
  },
  {
   "cell_type": "code",
   "execution_count": null,
   "id": "95d8cfbe",
   "metadata": {},
   "outputs": [],
   "source": []
  }
 ],
 "metadata": {
  "kernelspec": {
   "display_name": "Python 3 (ipykernel)",
   "language": "python",
   "name": "python3"
  },
  "language_info": {
   "codemirror_mode": {
    "name": "ipython",
    "version": 3
   },
   "file_extension": ".py",
   "mimetype": "text/x-python",
   "name": "python",
   "nbconvert_exporter": "python",
   "pygments_lexer": "ipython3",
   "version": "3.9.13"
  },
  "varInspector": {
   "cols": {
    "lenName": 16,
    "lenType": 16,
    "lenVar": 40
   },
   "kernels_config": {
    "python": {
     "delete_cmd_postfix": "",
     "delete_cmd_prefix": "del ",
     "library": "var_list.py",
     "varRefreshCmd": "print(var_dic_list())"
    },
    "r": {
     "delete_cmd_postfix": ") ",
     "delete_cmd_prefix": "rm(",
     "library": "var_list.r",
     "varRefreshCmd": "cat(var_dic_list()) "
    }
   },
   "types_to_exclude": [
    "module",
    "function",
    "builtin_function_or_method",
    "instance",
    "_Feature"
   ],
   "window_display": false
  }
 },
 "nbformat": 4,
 "nbformat_minor": 5
}
